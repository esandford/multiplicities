{
 "cells": [
  {
   "cell_type": "code",
   "execution_count": 1,
   "metadata": {},
   "outputs": [],
   "source": [
    "from __future__ import division,print_function\n",
    "import numpy as np\n",
    "import matplotlib.pyplot as plt\n",
    "import matplotlib.colors as clrs\n",
    "import matplotlib.cm as cmx\n",
    "import matplotlib.colorbar as cb\n",
    "import emcee\n",
    "import corner\n",
    "import batman\n",
    "import copy\n",
    "import time\n",
    "from astropy import units as u\n",
    "from astropy.constants import G\n",
    "from astropy.io import ascii\n",
    "from matplotlib import gridspec\n",
    "import scipy.optimize as sciop\n",
    "\n",
    "import matplotlib.image as mpimg\n",
    "import ipywidgets as widgets\n",
    "from IPython.display import display\n",
    "\n",
    "import matplotlib.style\n",
    "import matplotlib as mpl\n",
    "mpl.style.use('classic')\n",
    "\n",
    "%matplotlib inline"
   ]
  },
  {
   "cell_type": "code",
   "execution_count": 2,
   "metadata": {},
   "outputs": [],
   "source": [
    "#total steps = 52*1000 = 52000"
   ]
  },
  {
   "cell_type": "code",
   "execution_count": 3,
   "metadata": {},
   "outputs": [],
   "source": [
    "sing_models = [\"constant\",\"uniform\",\"poisson\",\"exponential\",\"zipf\",\"diconstant\",\"diuniform\",\"dipoisson\",\"diexponential\",\"dizipf\"]\n",
    "\n",
    "#labels=[r'$a_{small}$',r'$a_{big}$',r'$R_{p,crit}$',r'$\\sigma_{R}$',r'$a_{zipf}$',r'$f_{single}$',r'$\\sigma_{inc}$']\n"
   ]
  },
  {
   "cell_type": "code",
   "execution_count": 4,
   "metadata": {},
   "outputs": [],
   "source": [
    "header = [r\"Model\",\n",
    "          r\"$\\alpha_{\\mathrm{small}}$\",\n",
    "          r\"$\\alpha_{\\mathrm{big}}$\",\n",
    "          r\"$R_{\\mathrm{crit}}$\\,[$R_{\\oplus}$]\",\n",
    "          r\"$\\sigma_R$\\,[$R_{\\oplus}$]\",\n",
    "          r\"$\\beta$\",\n",
    "          r\"$\\sigma_I$\\,[$^{\\circ}$]\",\n",
    "          r\"$f$\"]\n",
    "\n",
    "joinchar = \" & \""
   ]
  },
  {
   "cell_type": "code",
   "execution_count": 5,
   "metadata": {
    "scrolled": false
   },
   "outputs": [
    {
     "name": "stdout",
     "output_type": "stream",
     "text": [
      "(50000, 7)\n",
      "(50000, 7)\n",
      "(50000, 7)\n",
      "(50000, 7)\n",
      "(50000, 7)\n",
      "(50000, 8)\n",
      "(50000, 8)\n",
      "(50000, 8)\n",
      "(50000, 8)\n",
      "(50000, 8)\n"
     ]
    }
   ],
   "source": [
    "results_table = open(\"./results_table.txt\",\"w\")\n",
    "\n",
    "results_table.write(joinchar.join((map(str,header))) + r\"\\\\\" + \"\\n\")\n",
    "\n",
    "for mod in sing_models:\n",
    "    chain = np.genfromtxt(\"./{0}Chain.dat\".format(mod),delimiter=',')\n",
    "    print(np.shape(chain))\n",
    "    \n",
    "    linedata = [mod]\n",
    "    \n",
    "    \n",
    "    if np.shape(chain)[1]==7:\n",
    "        for j in range(0,6):\n",
    "            p50 = np.percentile(chain[:,j],50)\n",
    "            up = np.percentile(chain[:,j],84) - np.percentile(chain[:,j],50)\n",
    "            down = np.percentile(chain[:,j],50) - np.percentile(chain[:,j],16)\n",
    "            linedata.append(r\"${0:.2f}^{{+{1:.2f}}}_{{-{2:.2f}}}$\".format(p50,up,down))\n",
    "            \n",
    "        linedata.append(\"-\")\n",
    "            \n",
    "    else:\n",
    "        for j in [0,1,2,3,4,6,5]:\n",
    "            p50 = np.percentile(chain[:,j],50)\n",
    "            up = np.percentile(chain[:,j],84) - np.percentile(chain[:,j],50)\n",
    "            down = np.percentile(chain[:,j],50) - np.percentile(chain[:,j],16)\n",
    "            linedata.append(r\"${0:.2f}^{{+{1:.2f}}}_{{-{2:.2f}}}$\".format(p50,up,down))\n",
    "    \n",
    "    results_table.write(joinchar.join((map(str, linedata))) + r\"\\\\\" + \"\\n\")\n",
    "    \n",
    "        "
   ]
  },
  {
   "cell_type": "code",
   "execution_count": null,
   "metadata": {
    "collapsed": true
   },
   "outputs": [],
   "source": []
  },
  {
   "cell_type": "code",
   "execution_count": null,
   "metadata": {
    "collapsed": true
   },
   "outputs": [],
   "source": []
  }
 ],
 "metadata": {
  "kernelspec": {
   "display_name": "Python 2",
   "language": "python",
   "name": "python2"
  },
  "language_info": {
   "codemirror_mode": {
    "name": "ipython",
    "version": 3
   },
   "file_extension": ".py",
   "mimetype": "text/x-python",
   "name": "python",
   "nbconvert_exporter": "python",
   "pygments_lexer": "ipython3",
   "version": "3.7.3"
  }
 },
 "nbformat": 4,
 "nbformat_minor": 1
}
