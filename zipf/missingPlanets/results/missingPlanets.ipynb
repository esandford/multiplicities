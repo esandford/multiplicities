{
 "cells": [
  {
   "cell_type": "code",
   "execution_count": 1,
   "metadata": {},
   "outputs": [],
   "source": [
    "import numpy as np\n",
    "import matplotlib.pyplot as plt\n",
    "import matplotlib.colors as clrs\n",
    "import matplotlib.cm as cmx\n",
    "import matplotlib.colorbar as cb\n",
    "\n",
    "from astropy import units as u\n",
    "from astropy.constants import G\n",
    "from astropy.io import ascii\n",
    "from matplotlib import gridspec\n",
    "import scipy.optimize as sciop\n",
    "\n",
    "import matplotlib.style\n",
    "import matplotlib as mpl\n",
    "mpl.style.use('classic')\n",
    "\n",
    "%matplotlib inline"
   ]
  },
  {
   "cell_type": "code",
   "execution_count": 2,
   "metadata": {},
   "outputs": [
    {
     "name": "stdout",
     "output_type": "stream",
     "text": [
      "10\n",
      "1537.0\n",
      "1966.0\n"
     ]
    }
   ],
   "source": [
    "trueKeps = np.array((1225.,218.,76.,15.,1.,2.,0.,0.,0.,0.))\n",
    "print(len(trueKeps))\n",
    "print(np.sum(trueKeps))\n",
    "\n",
    "print(np.sum(trueKeps*np.arange(1,11)))"
   ]
  },
  {
   "cell_type": "code",
   "execution_count": 4,
   "metadata": {},
   "outputs": [
    {
     "name": "stdout",
     "output_type": "stream",
     "text": [
      "(10000, 10)\n",
      "(10000, 10)\n"
     ]
    }
   ],
   "source": [
    "#gencounts = number generated\n",
    "#transitcounts = subset which transit\n",
    "#simcounts = subset which transit & are detected\n",
    "\n",
    "allgen = np.zeros((1,10))\n",
    "allsim = np.zeros((1,10))\n",
    "\n",
    "for i in range(10):\n",
    "    gen = np.genfromtxt(\"./gencounts{0}.dat\".format(i))\n",
    "    sim = np.genfromtxt(\"./simcounts{0}.dat\".format(i))\n",
    "    allgen = np.vstack((allgen,gen))\n",
    "    allsim = np.vstack((allsim,sim))\n",
    "\n",
    "allgen = allgen[1:]\n",
    "allsim = allsim[1:]\n",
    "print(np.shape(allgen))\n",
    "print(np.shape(allsim))"
   ]
  },
  {
   "cell_type": "code",
   "execution_count": null,
   "metadata": {},
   "outputs": [],
   "source": []
  },
  {
   "cell_type": "code",
   "execution_count": 5,
   "metadata": {},
   "outputs": [
    {
     "data": {
      "image/png": "[encoded data removed]",
      "text/plain": [
       "<Figure size 576x432 with 1 Axes>"
      ]
     },
     "metadata": {
      "needs_background": "light"
     },
     "output_type": "display_data"
    }
   ],
   "source": [
    "allgen_collapsed = np.mean(allgen,axis=0)\n",
    "allsim_collapsed = np.mean(allsim,axis=0)\n",
    "\n",
    "\n",
    "fig = plt.figure(figsize=(8,6))\n",
    "plt.bar(np.arange(1,11),allgen_collapsed,color='b',alpha=0.5)\n",
    "plt.bar(np.arange(1,11),allsim_collapsed,color='r',alpha=0.5)\n",
    "plt.show()"
   ]
  },
  {
   "cell_type": "code",
   "execution_count": 12,
   "metadata": {},
   "outputs": [
    {
     "name": "stdout",
     "output_type": "stream",
     "text": [
      "[31.07670625 19.71740527 13.92904074 10.47865459  7.85478548  5.82930598\n",
      "  4.22163588  2.97029703  2.02658541  1.39771283]\n",
      "[7.17824317 1.44017154 1.12962941 1.6582079  1.95061042 1.98319402\n",
      " 1.77576972 1.52287341 1.16374039 0.87645015]\n",
      "[8.94180121 2.06650011 1.24945176 1.61041539 1.60885869 1.42650394\n",
      " 1.20301032 0.95075306 0.69782294 0.53687684]\n"
     ]
    }
   ],
   "source": [
    "#Calculate percentage of systems with each multiplicity, to populate table 5\n",
    "\n",
    "percents = np.zeros_like(allgen)\n",
    "\n",
    "for i in range(0,len(allgen)):\n",
    "    tot_systems = np.sum(allgen[i])\n",
    "    #print(tot_systems)\n",
    "    percents[i] = allgen[i]/tot_systems\n",
    "    \n",
    "#print(np.shape(percents))\n",
    "#print(percents[0])\n",
    "\n",
    "p50 = np.zeros((10))\n",
    "p84 = np.zeros((10))\n",
    "p16 = np.zeros((10))\n",
    "\n",
    "for j in range(10):\n",
    "    p50[j] = np.percentile(percents[:,j],50)\n",
    "    p84[j] = np.percentile(percents[:,j],84) - np.percentile(percents[:,j],50)\n",
    "    p16[j] = np.percentile(percents[:,j],50) - np.percentile(percents[:,j],16)\n",
    "    \n",
    "print(p50*100)\n",
    "print(p84*100)\n",
    "print(p16*100)\n"
   ]
  },
  {
   "cell_type": "code",
   "execution_count": 42,
   "metadata": {},
   "outputs": [
    {
     "data": {
      "text/plain": [
       "10.6"
      ]
     },
     "execution_count": 42,
     "metadata": {},
     "output_type": "execute_result"
    }
   ],
   "source": [
    "4.2+3.0+2.0+1.4"
   ]
  },
  {
   "cell_type": "code",
   "execution_count": 35,
   "metadata": {},
   "outputs": [
    {
     "name": "stdout",
     "output_type": "stream",
     "text": [
      "745.276369168357\n",
      "136.96275331167996\n",
      "107.50363345804894\n"
     ]
    }
   ],
   "source": [
    "# calculate false singles / observed singles\n",
    "\n",
    "obs_singles = allsim[:,0]\n",
    "obs_multiples = np.sum(allsim[:,1:],axis=1)\n",
    "\n",
    "true_singles = allgen[:,0]\n",
    "true_multiples = np.sum(allgen[:,1:],axis=1)\n",
    "\n",
    "\n",
    "false_singles = obs_singles - true_singles\n",
    "\n",
    "#print(false_singles/obs_singles)\n",
    "#print(true_singles/obs_singles)\n",
    "#print((false_singles+true_singles)/obs_singles)\n",
    "\n",
    "false_percentage = false_singles/obs_singles\n",
    "\n",
    "print(np.percentile(false_percentage,50)*1225)\n",
    "print((np.percentile(false_percentage,84) - np.percentile(false_percentage,50))*1225)\n",
    "print((np.percentile(false_percentage,50) - np.percentile(false_percentage,16))*1225)"
   ]
  },
  {
   "cell_type": "code",
   "execution_count": 36,
   "metadata": {},
   "outputs": [
    {
     "name": "stdout",
     "output_type": "stream",
     "text": [
      "[4602. 4543. 4641. ... 6137. 6642. 6439.]\n",
      "(10000,)\n",
      "4843.0\n",
      "915.0\n",
      "586.0\n"
     ]
    }
   ],
   "source": [
    "# Calculate the total number of missing planets\n",
    "\n",
    "total_planets = np.sum(allgen*np.arange(1,11), axis=1)\n",
    "print(total_planets)\n",
    "print(np.shape(total_planets))\n",
    "\n",
    "print(np.percentile(total_planets,50))\n",
    "print(np.percentile(total_planets,84) - np.percentile(total_planets,50))\n",
    "print(np.percentile(total_planets,50) - np.percentile(total_planets,16))"
   ]
  },
  {
   "cell_type": "code",
   "execution_count": 37,
   "metadata": {},
   "outputs": [
    {
     "data": {
      "text/plain": [
       "2877"
      ]
     },
     "execution_count": 37,
     "metadata": {},
     "output_type": "execute_result"
    }
   ],
   "source": [
    "4843-1966"
   ]
  },
  {
   "cell_type": "code",
   "execution_count": 41,
   "metadata": {},
   "outputs": [
    {
     "data": {
      "text/plain": [
       "0.465412004069176"
      ]
     },
     "execution_count": 41,
     "metadata": {},
     "output_type": "execute_result"
    }
   ],
   "source": [
    "(915)/1966."
   ]
  },
  {
   "cell_type": "code",
   "execution_count": 3,
   "metadata": {},
   "outputs": [
    {
     "data": {
      "text/plain": [
       "0.6230925737538149"
      ]
     },
     "execution_count": 3,
     "metadata": {},
     "output_type": "execute_result"
    }
   ],
   "source": [
    "1225/1966."
   ]
  },
  {
   "cell_type": "code",
   "execution_count": 17,
   "metadata": {},
   "outputs": [
    {
     "name": "stdout",
     "output_type": "stream",
     "text": [
      "0.7970071567989591\n"
     ]
    }
   ],
   "source": [
    "f_sing = 1225/(1225+218+76+15+1+2)\n",
    "print(f_sing)"
   ]
  },
  {
   "cell_type": "code",
   "execution_count": 24,
   "metadata": {},
   "outputs": [
    {
     "name": "stdout",
     "output_type": "stream",
     "text": [
      "0.5200174917670204\n",
      "0.6100824693367347\n",
      "0.7222747016613879\n"
     ]
    }
   ],
   "source": [
    "print((f_sing-(0.01*(31.07670625+7.17824317)))/f_sing )\n",
    "print((f_sing-(0.01*(31.07670625)))/f_sing )\n",
    "print((f_sing-(0.01*(31.07670625-8.94180121)))/f_sing )"
   ]
  },
  {
   "cell_type": "code",
   "execution_count": 27,
   "metadata": {},
   "outputs": [
    {
     "data": {
      "text/plain": [
       "8.999999999999996"
      ]
     },
     "execution_count": 27,
     "metadata": {},
     "output_type": "execute_result"
    }
   ],
   "source": [
    "(0.610-0.520)*100"
   ]
  },
  {
   "cell_type": "code",
   "execution_count": 31,
   "metadata": {},
   "outputs": [
    {
     "data": {
      "text/plain": [
       "137.20000000000002"
      ]
     },
     "execution_count": 31,
     "metadata": {},
     "output_type": "execute_result"
    }
   ],
   "source": [
    "0.112*1225"
   ]
  },
  {
   "cell_type": "code",
   "execution_count": null,
   "metadata": {},
   "outputs": [],
   "source": []
  }
 ],
 "metadata": {
  "kernelspec": {
   "display_name": "Python 2",
   "language": "python",
   "name": "python2"
  },
  "language_info": {
   "codemirror_mode": {
    "name": "ipython",
    "version": 3
   },
   "file_extension": ".py",
   "mimetype": "text/x-python",
   "name": "python",
   "nbconvert_exporter": "python",
   "pygments_lexer": "ipython3",
   "version": "3.7.3"
  }
 },
 "nbformat": 4,
 "nbformat_minor": 1
}
